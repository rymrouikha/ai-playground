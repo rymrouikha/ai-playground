{
 "cells": [
  {
   "cell_type": "markdown",
   "id": "73ed9ad9",
   "metadata": {},
   "source": [
    "# Welcome to this Iris Flower Species Classification Project\n",
    "\n",
    "In this project, I attempted to implement the logic behind the K-Nearest Neighbors (KNN) classifier, since I wanted to understand what happens behind the scenes after practicing with the `scikit-learn` library.  \n",
    "\n",
    "Just like the predefined one, I chose to implement it as a class so it can be reused with different datasets, since the Iris dataset always yields the same accuracy regardless of the number of neighbors chosen.  \n",
    "\n",
    "This work was inspired by concepts discussed in [*Introduction to Machine Learning with Python*](https://www.oreilly.com/library/view/introduction-to-machine/9781449369880/) by Andreas C. Müller and Sarah Guido."
   ]
  },
  {
   "cell_type": "code",
   "execution_count": 6,
   "id": "08d0baf9-c1cc-45e1-a71c-d5772c964620",
   "metadata": {},
   "outputs": [],
   "source": [
    "import numpy as np\n",
    "import matplotlib.pyplot as plt\n",
    "from sklearn.datasets import load_iris\n",
    "from sklearn.model_selection import train_test_split\n",
    "import math"
   ]
  },
  {
   "cell_type": "code",
   "execution_count": null,
   "id": "36781bc4-97f4-4012-a74d-1ef5c7a0398d",
   "metadata": {},
   "outputs": [],
   "source": [
    "# Loading our dataset\n",
    "iris_dataset = load_iris()\n",
    "X_train, X_test, y_train, y_test = train_test_split(iris_dataset['data'], iris_dataset['target'], random_state = 0)\n",
    "# using the same conventions for naming that were mentionned in the book (uppercase X, lowercase y...)"
   ]
  },
  {
   "cell_type": "markdown",
   "id": "d2d49beb-b0e4-492c-9263-288ff04261a9",
   "metadata": {},
   "source": [
    "# Implementing the algorithm as a class:\n",
    "Mimicking the behavior of the K-neighboors classifier in the sklearn library "
   ]
  },
  {
   "cell_type": "code",
   "execution_count": 32,
   "id": "ffae3914-68df-4a8d-ba5f-6f9b80547bb2",
   "metadata": {},
   "outputs": [],
   "source": [
    "class KNbrsClassifier:\n",
    "    \n",
    "    def __init__(self, K = 1): # constructor\n",
    "        self.k = K\n",
    "        \n",
    "    def fit(self, X_train, y_train):\n",
    "        self.X_train = X_train\n",
    "        self.y_train = y_train\n",
    "        \n",
    "    def euclidean_distance(self, p1, p2): # Implementing with euclidean distance\n",
    "        distance = math.sqrt(np.sum((p1 - p2)** 2)) \n",
    "        return distance\n",
    "\n",
    "    def vote(self, neighbors): # Helper function for 'voting' which label to predict\n",
    "        votes= {}\n",
    "        for neighbor in neighbors:\n",
    "            label = neighbor[1]\n",
    "            if label not in votes:\n",
    "                votes[label] = 1\n",
    "            else:\n",
    "                votes[label] += 1\n",
    "        result_label = max(votes, key=votes.get) \n",
    "        return result_label\n",
    "        \n",
    "    def predict_one_point(self, p):\n",
    "        \n",
    "        point_distances = []\n",
    "        for i, train_pt in enumerate(self.X_train):\n",
    "            point_distances.append((self.euclidean_distance(p, train_pt), self.y_train[i])) \n",
    "        point_distances.sort(key=lambda x: x[0])\n",
    "        k_nearest_neighbors = point_distances[:self.k] # Taking the first k elements after sorting\n",
    "        return self.vote(k_nearest_neighbors)\n",
    "        \n",
    "    def predict(self, X_test):\n",
    "        predictions = []\n",
    "        for test_pt in X_test:\n",
    "            predictions.append(self.predict_one_point(test_pt))\n",
    "        return predictions\n",
    "    \n",
    "    def score(self, X_test, y_test):\n",
    "        y_predictions = self.predict(X_test)\n",
    "        return np.mean(y_predictions == y_test)\n"
   ]
  },
  {
   "cell_type": "markdown",
   "id": "16b5b776-dcd9-4887-9f0e-b795b09f1867",
   "metadata": {},
   "source": [
    "# Testing our class on the dataset we prepared earlier :"
   ]
  },
  {
   "cell_type": "code",
   "execution_count": 17,
   "id": "e2111e0c-5175-496d-bbb9-cc71492d3d52",
   "metadata": {},
   "outputs": [
    {
     "name": "stdout",
     "output_type": "stream",
     "text": [
      "test set score: 0.9736842105263158\n"
     ]
    }
   ],
   "source": [
    "knn = KNbrsClassifier(K=1)\n",
    "knn.fit(X_train, y_train) \n",
    "print(\"test set score: {}\".format(knn.score(X_test, y_test)))"
   ]
  },
  {
   "cell_type": "markdown",
   "id": "556b6531",
   "metadata": {},
   "source": [
    "We can see that it is the same accuracy that we obtain using the predefined K-neighboors classifier in the sklearn library"
   ]
  },
  {
   "cell_type": "markdown",
   "id": "cd00d037",
   "metadata": {},
   "source": [
    "## Extra : visualizing the results accuracy using matplotlib"
   ]
  },
  {
   "cell_type": "code",
   "execution_count": 31,
   "id": "02f34ebf",
   "metadata": {},
   "outputs": [
    {
     "data": {
      "image/png": "[encoded data removed]",
      "text/plain": [
       "<Figure size 1000x300 with 1 Axes>"
      ]
     },
     "metadata": {},
     "output_type": "display_data"
    }
   ],
   "source": [
    "y_pred = knn.predict(X_test)\n",
    "plt.figure(figsize = (10,3))\n",
    "x = np.arange(len(y_test))\n",
    "plt.scatter(x, y_test, label='actual labels', marker='o', color='blue')\n",
    "plt.scatter(x, y_pred, label='predicted labels', marker='x', color='black')\n",
    "plt.yticks([0, 1, 2])\n",
    "plt.title(\"Real vs predicted labels on our test set\")\n",
    "plt.xlabel(\"test data points\")\n",
    "plt.ylabel(\"class label\")\n",
    "plt.legend(bbox_to_anchor=(0.5, 1.5))\n",
    "plt.show()"
   ]
  },
  {
   "cell_type": "markdown",
   "id": "da871a49",
   "metadata": {},
   "source": [
    "As we can see from the plot, two of the 38 data points have been mis-classified"
   ]
  },
  {
   "cell_type": "markdown",
   "id": "2193984a-ad47-4d61-a8d2-179bc1cfa314",
   "metadata": {},
   "source": [
    "This project reflects my very first step in machine learning, as it is my first model built from scratch. If you have any suggestions or remarks -even if the project is simple- fell free to open an issue or reach out, I'd love to hear your feedback!\n",
    "   \n",
    "Made by Rouikha Rym."
   ]
  },
  {
   "cell_type": "markdown",
   "id": "a7c73bb8-f8a2-41a9-9f5b-fb6a4c680799",
   "metadata": {},
   "source": [
    "<div style=\"text-align: center\"><b>Thank you for your time and attention.</b></div>"
   ]
  }
 ],
 "metadata": {
  "kernelspec": {
   "display_name": "Python 3 (ipykernel)",
   "language": "python",
   "name": "python3"
  },
  "language_info": {
   "codemirror_mode": {
    "name": "ipython",
    "version": 3
   },
   "file_extension": ".py",
   "mimetype": "text/x-python",
   "name": "python",
   "nbconvert_exporter": "python",
   "pygments_lexer": "ipython3",
   "version": "3.13.0"
  }
 },
 "nbformat": 4,
 "nbformat_minor": 5
}
